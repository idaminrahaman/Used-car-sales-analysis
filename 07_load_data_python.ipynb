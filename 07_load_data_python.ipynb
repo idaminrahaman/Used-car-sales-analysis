{
 "cells": [
  {
   "cell_type": "code",
   "execution_count": null,
   "id": "12791466",
   "metadata": {},
   "outputs": [],
   "source": [
    "\n",
    "import pandas as pd\n",
    "import sqlalchemy"
   ]
  },
  {
   "cell_type": "code",
   "execution_count": null,
   "id": "5900e2c0",
   "metadata": {},
   "outputs": [],
   "source": [
    "\n",
    "username = 'root'\n",
    "password = '******'\n",
    "host = 'localhost'\n",
    "port = 3306\n",
    "database_name = 'used_car_sales_db'\n",
    "\n",
    "engine = sqlalchemy.create_engine(\n",
    "    f\"mysql+pymysql://{username}:{password}@{host}:{port}/{database_name}\"\n",
    ")\n",
    "\n",
    "df = pd.read_sql(\"SELECT * FROM sales_analysis\", con=engine)\n",
    "\n",
    "\n",
    "df = df.drop_duplicates()\n",
    "df['city'] = df['city'].str.strip()\n",
    "\n",
    "# 🔹 Save the cleaned dataset locally\n",
    "output_path = r\"C:\\DATA ANALYSIS\\My projects\\used-car-sales-analysis\\codes\\07_used_cars_clean.csv\"\n",
    "df.to_csv(output_path, index=False)\n",
    "\n"
   ]
  }
 ],
 "metadata": {
  "kernelspec": {
   "display_name": "Python 3",
   "language": "python",
   "name": "python3"
  },
  "language_info": {
   "codemirror_mode": {
    "name": "ipython",
    "version": 3
   },
   "file_extension": ".py",
   "mimetype": "text/x-python",
   "name": "python",
   "nbconvert_exporter": "python",
   "pygments_lexer": "ipython3",
   "version": "3.13.3"
  }
 },
 "nbformat": 4,
 "nbformat_minor": 5
}
